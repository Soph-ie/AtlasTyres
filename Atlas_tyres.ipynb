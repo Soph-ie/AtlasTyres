{
  "nbformat": 4,
  "nbformat_minor": 0,
  "metadata": {
    "colab": {
      "name": "Atlas_tyres.ipynb",
      "version": "0.3.2",
      "provenance": [],
      "include_colab_link": true
    },
    "kernelspec": {
      "name": "python3",
      "display_name": "Python 3"
    }
  },
  "cells": [
    {
      "cell_type": "markdown",
      "metadata": {
        "id": "view-in-github",
        "colab_type": "text"
      },
      "source": [
        "<a href=\"https://colab.research.google.com/github/Soph-ie/AtlasTyres/blob/master/Atlas_tyres.ipynb\" target=\"_parent\"><img src=\"https://colab.research.google.com/assets/colab-badge.svg\" alt=\"Open In Colab\"/></a>"
      ]
    },
    {
      "cell_type": "code",
      "metadata": {
        "id": "he6oBslQ-MfF",
        "colab_type": "code",
        "colab": {}
      },
      "source": [
        "import pandas as pd\n",
        "import numpy as np"
      ],
      "execution_count": 0,
      "outputs": []
    },
    {
      "cell_type": "code",
      "metadata": {
        "id": "Q05h9lAZ-N8m",
        "colab_type": "code",
        "outputId": "a871e3d3-e162-4add-f6cd-16b6e2de7480",
        "colab": {
          "base_uri": "https://localhost:8080/",
          "height": 34
        }
      },
      "source": [
        "# Load the Drive helper and mount\n",
        "from google.colab import drive\n",
        "# This will prompt for authorization.\n",
        "drive.mount('/content/drive')"
      ],
      "execution_count": 53,
      "outputs": [
        {
          "output_type": "stream",
          "text": [
            "Drive already mounted at /content/drive; to attempt to forcibly remount, call drive.mount(\"/content/drive\", force_remount=True).\n"
          ],
          "name": "stdout"
        }
      ]
    },
    {
      "cell_type": "code",
      "metadata": {
        "id": "zIUCJSWE-Txx",
        "colab_type": "code",
        "colab": {}
      },
      "source": [
        "PATH='/content/drive/My Drive/ATLAS TYRES REPORT SUMMARY-1.xlsx'"
      ],
      "execution_count": 0,
      "outputs": []
    },
    {
      "cell_type": "code",
      "metadata": {
        "id": "z2WFMfhx_F1D",
        "colab_type": "code",
        "colab": {}
      },
      "source": [
        "xls=pd.read_excel(f'{PATH}')"
      ],
      "execution_count": 0,
      "outputs": []
    },
    {
      "cell_type": "code",
      "metadata": {
        "id": "zV7ITQyc_MTx",
        "colab_type": "code",
        "outputId": "cf0afcf5-5e81-4617-805a-68f1d207e19e",
        "colab": {
          "base_uri": "https://localhost:8080/",
          "height": 816
        }
      },
      "source": [
        "xls.head"
      ],
      "execution_count": 98,
      "outputs": [
        {
          "output_type": "execute_result",
          "data": {
            "text/plain": [
              "<bound method NDFrame.head of               Atlas Tyres Ltd  ...  Unnamed: 16\n",
              "0                 10612-00100  ...          NaN\n",
              "1                     NAIROBI  ...          NaN\n",
              "2               Stock Summary  ...          NaN\n",
              "3   1-Jan-2019 to 30-Jun-2019  ...          NaN\n",
              "4                         NaN  ...          NaN\n",
              "5                 Particulars  ...          NaN\n",
              "6                         NaN  ...          NaN\n",
              "7                         NaN  ...        Value\n",
              "8                 155R12C ATL  ...       468100\n",
              "9         175/70R13 GREEN ATL  ...       732000\n",
              "10              175/70R14 ATL  ...       368900\n",
              "11                175R13C ATL  ...      2348000\n",
              "12        185/65R15 GREEN ATL  ...      1056000\n",
              "13              185/70R13 ATL  ...        32000\n",
              "14        185/70R14 GREEN ATL  ...        17000\n",
              "15         185/70R14 LMA3 INF  ...      1519800\n",
              "16               185R14C  ATL  ...      1329600\n",
              "17              195/65R15 ATL  ...  2.47783e+06\n",
              "18           195R14C LMC8 ATL  ...      8908800\n",
              "19           195R14C LMC8 INF  ...      1612800\n",
              "20       195R15C GREENVAN ATL  ...      7360200\n",
              "21                195R15C INF  ...      5747220\n",
              "22        205/55R16 GREEN ATL  ...      1752000\n",
              "23        205/60R16 GREEN ATL  ...       341000\n",
              "24              205/65R15 ATL  ...       148800\n",
              "25              205/70R15 ATL  ...       551000\n",
              "26                205R16C ATL  ...      2296000\n",
              "27  215/45R17 SPORT GREEN ATL  ...        45000\n",
              "28        215/60R16 GREEN ATL  ...      1891500\n",
              "29             215/70R15C ATL  ...      1494000\n",
              "30             215/70R16C ATL  ...      2802000\n",
              "31  225/55R17 SPORT GREEN ATL  ...       126000\n",
              "32              225/65R17 ATL  ...  1.39144e+06\n",
              "33             225/70R15C ATL  ...      1735300\n",
              "34  235/35R19 SPORT GREEN ATL  ...       144000\n",
              "35              235/55R18 ATL  ...      1529500\n",
              "36              235/60R18 ATL  ...      2720000\n",
              "37             235/70R16  ATL  ...      1980000\n",
              "38  245/45R20 SPORT GREEN ATL  ...       280000\n",
              "39    255/55R19 CROSSWIND ATL  ...       156000\n",
              "40       265/70R19.5 AW09 ATL  ...      5002400\n",
              "41     385/65R22.5 APW092 ATL  ...      2565000\n",
              "42        9.5R17.5 AP09II ATL  ...      5529600\n",
              "43                Grand Total  ...  6.84588e+07\n",
              "\n",
              "[44 rows x 17 columns]>"
            ]
          },
          "metadata": {
            "tags": []
          },
          "execution_count": 98
        }
      ]
    },
    {
      "cell_type": "code",
      "metadata": {
        "id": "o3so4Qi7_Nyg",
        "colab_type": "code",
        "colab": {}
      },
      "source": [
        "#The code is to change some normal settings, even if it has 1000 rows and 1000 columns, pleaase still show them\n",
        "def display_all(df):\n",
        "    with pd.option_context(\"display.max_rows\", 1000, \"display.max_columns\", 1000): \n",
        "        display(df)"
      ],
      "execution_count": 0,
      "outputs": []
    },
    {
      "cell_type": "code",
      "metadata": {
        "id": "LWoVnx3E_T1P",
        "colab_type": "code",
        "outputId": "e3ee73df-4c29-40ee-8d85-aafd1a4780ff",
        "colab": {
          "base_uri": "https://localhost:8080/",
          "height": 323
        }
      },
      "source": [
        "display_all(xls.isnull().sum().sort_index()/len(xls))"
      ],
      "execution_count": 100,
      "outputs": [
        {
          "output_type": "display_data",
          "data": {
            "text/plain": [
              "Atlas Tyres Ltd    0.068182\n",
              "Unnamed: 1         0.386364\n",
              "Unnamed: 10        0.250000\n",
              "Unnamed: 11        0.250000\n",
              "Unnamed: 12        0.340909\n",
              "Unnamed: 13        0.340909\n",
              "Unnamed: 14        0.136364\n",
              "Unnamed: 15        0.181818\n",
              "Unnamed: 16        0.159091\n",
              "Unnamed: 2         0.477273\n",
              "Unnamed: 3         0.454545\n",
              "Unnamed: 4         0.590909\n",
              "Unnamed: 5         0.636364\n",
              "Unnamed: 6         0.613636\n",
              "Unnamed: 7         0.227273\n",
              "Unnamed: 8         0.272727\n",
              "Unnamed: 9         0.250000\n",
              "dtype: float64"
            ]
          },
          "metadata": {
            "tags": []
          }
        }
      ]
    },
    {
      "cell_type": "code",
      "metadata": {
        "id": "eRHVgVrl_YfU",
        "colab_type": "code",
        "outputId": "9c662e6f-4399-4054-a46e-9debfa5e2425",
        "colab": {
          "base_uri": "https://localhost:8080/",
          "height": 925
        }
      },
      "source": [
        "display_all(xls.head(15))"
      ],
      "execution_count": 101,
      "outputs": [
        {
          "output_type": "display_data",
          "data": {
            "text/html": [
              "<div>\n",
              "<style scoped>\n",
              "    .dataframe tbody tr th:only-of-type {\n",
              "        vertical-align: middle;\n",
              "    }\n",
              "\n",
              "    .dataframe tbody tr th {\n",
              "        vertical-align: top;\n",
              "    }\n",
              "\n",
              "    .dataframe thead th {\n",
              "        text-align: right;\n",
              "    }\n",
              "</style>\n",
              "<table border=\"1\" class=\"dataframe\">\n",
              "  <thead>\n",
              "    <tr style=\"text-align: right;\">\n",
              "      <th></th>\n",
              "      <th>Atlas Tyres Ltd</th>\n",
              "      <th>Unnamed: 1</th>\n",
              "      <th>Unnamed: 2</th>\n",
              "      <th>Unnamed: 3</th>\n",
              "      <th>Unnamed: 4</th>\n",
              "      <th>Unnamed: 5</th>\n",
              "      <th>Unnamed: 6</th>\n",
              "      <th>Unnamed: 7</th>\n",
              "      <th>Unnamed: 8</th>\n",
              "      <th>Unnamed: 9</th>\n",
              "      <th>Unnamed: 10</th>\n",
              "      <th>Unnamed: 11</th>\n",
              "      <th>Unnamed: 12</th>\n",
              "      <th>Unnamed: 13</th>\n",
              "      <th>Unnamed: 14</th>\n",
              "      <th>Unnamed: 15</th>\n",
              "      <th>Unnamed: 16</th>\n",
              "    </tr>\n",
              "  </thead>\n",
              "  <tbody>\n",
              "    <tr>\n",
              "      <th>0</th>\n",
              "      <td>10612-00100</td>\n",
              "      <td>NaN</td>\n",
              "      <td>NaN</td>\n",
              "      <td>NaN</td>\n",
              "      <td>NaN</td>\n",
              "      <td>NaN</td>\n",
              "      <td>NaN</td>\n",
              "      <td>NaN</td>\n",
              "      <td>NaN</td>\n",
              "      <td>NaN</td>\n",
              "      <td>NaN</td>\n",
              "      <td>NaN</td>\n",
              "      <td>NaN</td>\n",
              "      <td>NaN</td>\n",
              "      <td>NaN</td>\n",
              "      <td>NaN</td>\n",
              "      <td>NaN</td>\n",
              "    </tr>\n",
              "    <tr>\n",
              "      <th>1</th>\n",
              "      <td>NAIROBI</td>\n",
              "      <td>NaN</td>\n",
              "      <td>NaN</td>\n",
              "      <td>NaN</td>\n",
              "      <td>NaN</td>\n",
              "      <td>NaN</td>\n",
              "      <td>NaN</td>\n",
              "      <td>NaN</td>\n",
              "      <td>NaN</td>\n",
              "      <td>NaN</td>\n",
              "      <td>NaN</td>\n",
              "      <td>NaN</td>\n",
              "      <td>NaN</td>\n",
              "      <td>NaN</td>\n",
              "      <td>NaN</td>\n",
              "      <td>NaN</td>\n",
              "      <td>NaN</td>\n",
              "    </tr>\n",
              "    <tr>\n",
              "      <th>2</th>\n",
              "      <td>Stock Summary</td>\n",
              "      <td>NaN</td>\n",
              "      <td>NaN</td>\n",
              "      <td>NaN</td>\n",
              "      <td>NaN</td>\n",
              "      <td>NaN</td>\n",
              "      <td>NaN</td>\n",
              "      <td>NaN</td>\n",
              "      <td>NaN</td>\n",
              "      <td>NaN</td>\n",
              "      <td>NaN</td>\n",
              "      <td>NaN</td>\n",
              "      <td>NaN</td>\n",
              "      <td>NaN</td>\n",
              "      <td>NaN</td>\n",
              "      <td>NaN</td>\n",
              "      <td>NaN</td>\n",
              "    </tr>\n",
              "    <tr>\n",
              "      <th>3</th>\n",
              "      <td>1-Jan-2019 to 30-Jun-2019</td>\n",
              "      <td>NaN</td>\n",
              "      <td>NaN</td>\n",
              "      <td>NaN</td>\n",
              "      <td>NaN</td>\n",
              "      <td>NaN</td>\n",
              "      <td>NaN</td>\n",
              "      <td>NaN</td>\n",
              "      <td>NaN</td>\n",
              "      <td>NaN</td>\n",
              "      <td>NaN</td>\n",
              "      <td>NaN</td>\n",
              "      <td>NaN</td>\n",
              "      <td>NaN</td>\n",
              "      <td>NaN</td>\n",
              "      <td>NaN</td>\n",
              "      <td>NaN</td>\n",
              "    </tr>\n",
              "    <tr>\n",
              "      <th>4</th>\n",
              "      <td>NaN</td>\n",
              "      <td>Atlas Tyres Ltd</td>\n",
              "      <td>NaN</td>\n",
              "      <td>NaN</td>\n",
              "      <td>NaN</td>\n",
              "      <td>NaN</td>\n",
              "      <td>NaN</td>\n",
              "      <td>NaN</td>\n",
              "      <td>NaN</td>\n",
              "      <td>NaN</td>\n",
              "      <td>NaN</td>\n",
              "      <td>NaN</td>\n",
              "      <td>NaN</td>\n",
              "      <td>NaN</td>\n",
              "      <td>NaN</td>\n",
              "      <td>NaN</td>\n",
              "      <td>NaN</td>\n",
              "    </tr>\n",
              "    <tr>\n",
              "      <th>5</th>\n",
              "      <td>Particulars</td>\n",
              "      <td>1-Jan-2019 to 30-Jun-2019</td>\n",
              "      <td>NaN</td>\n",
              "      <td>NaN</td>\n",
              "      <td>NaN</td>\n",
              "      <td>NaN</td>\n",
              "      <td>NaN</td>\n",
              "      <td>NaN</td>\n",
              "      <td>NaN</td>\n",
              "      <td>NaN</td>\n",
              "      <td>NaN</td>\n",
              "      <td>NaN</td>\n",
              "      <td>NaN</td>\n",
              "      <td>NaN</td>\n",
              "      <td>NaN</td>\n",
              "      <td>NaN</td>\n",
              "      <td>NaN</td>\n",
              "    </tr>\n",
              "    <tr>\n",
              "      <th>6</th>\n",
              "      <td>NaN</td>\n",
              "      <td>Opening Balance</td>\n",
              "      <td>NaN</td>\n",
              "      <td>NaN</td>\n",
              "      <td>Inwards</td>\n",
              "      <td>NaN</td>\n",
              "      <td>NaN</td>\n",
              "      <td>Outwards</td>\n",
              "      <td>NaN</td>\n",
              "      <td>NaN</td>\n",
              "      <td>NaN</td>\n",
              "      <td>NaN</td>\n",
              "      <td>NaN</td>\n",
              "      <td>NaN</td>\n",
              "      <td>Closing Balance</td>\n",
              "      <td>NaN</td>\n",
              "      <td>NaN</td>\n",
              "    </tr>\n",
              "    <tr>\n",
              "      <th>7</th>\n",
              "      <td>NaN</td>\n",
              "      <td>Quantity</td>\n",
              "      <td>Rate</td>\n",
              "      <td>Value</td>\n",
              "      <td>Quantity</td>\n",
              "      <td>Rate</td>\n",
              "      <td>Value</td>\n",
              "      <td>Quantity</td>\n",
              "      <td>Rate</td>\n",
              "      <td>Value</td>\n",
              "      <td>Gross Value</td>\n",
              "      <td>Consumption</td>\n",
              "      <td>Gross Profit</td>\n",
              "      <td>Perc %</td>\n",
              "      <td>Quantity</td>\n",
              "      <td>Rate</td>\n",
              "      <td>Value</td>\n",
              "    </tr>\n",
              "    <tr>\n",
              "      <th>8</th>\n",
              "      <td>155R12C ATL</td>\n",
              "      <td>300</td>\n",
              "      <td>3100</td>\n",
              "      <td>930000</td>\n",
              "      <td>NaN</td>\n",
              "      <td>NaN</td>\n",
              "      <td>NaN</td>\n",
              "      <td>149</td>\n",
              "      <td>3129.53</td>\n",
              "      <td>466300</td>\n",
              "      <td>466300</td>\n",
              "      <td>461900</td>\n",
              "      <td>4400</td>\n",
              "      <td>0.94</td>\n",
              "      <td>151</td>\n",
              "      <td>3100</td>\n",
              "      <td>468100</td>\n",
              "    </tr>\n",
              "    <tr>\n",
              "      <th>9</th>\n",
              "      <td>175/70R13 GREEN ATL</td>\n",
              "      <td>290</td>\n",
              "      <td>3000</td>\n",
              "      <td>870000</td>\n",
              "      <td>NaN</td>\n",
              "      <td>NaN</td>\n",
              "      <td>NaN</td>\n",
              "      <td>46</td>\n",
              "      <td>3026.09</td>\n",
              "      <td>139200</td>\n",
              "      <td>139200</td>\n",
              "      <td>138000</td>\n",
              "      <td>1200</td>\n",
              "      <td>0.86</td>\n",
              "      <td>244</td>\n",
              "      <td>3000</td>\n",
              "      <td>732000</td>\n",
              "    </tr>\n",
              "    <tr>\n",
              "      <th>10</th>\n",
              "      <td>175/70R14 ATL</td>\n",
              "      <td>186</td>\n",
              "      <td>3100</td>\n",
              "      <td>576600</td>\n",
              "      <td>NaN</td>\n",
              "      <td>NaN</td>\n",
              "      <td>NaN</td>\n",
              "      <td>67</td>\n",
              "      <td>3131.34</td>\n",
              "      <td>209800</td>\n",
              "      <td>209800</td>\n",
              "      <td>207700</td>\n",
              "      <td>2100</td>\n",
              "      <td>1</td>\n",
              "      <td>119</td>\n",
              "      <td>3100</td>\n",
              "      <td>368900</td>\n",
              "    </tr>\n",
              "    <tr>\n",
              "      <th>11</th>\n",
              "      <td>175R13C ATL</td>\n",
              "      <td>686</td>\n",
              "      <td>4000</td>\n",
              "      <td>2744000</td>\n",
              "      <td>NaN</td>\n",
              "      <td>NaN</td>\n",
              "      <td>NaN</td>\n",
              "      <td>99</td>\n",
              "      <td>3991.92</td>\n",
              "      <td>395200</td>\n",
              "      <td>395200</td>\n",
              "      <td>396000</td>\n",
              "      <td>-800</td>\n",
              "      <td>-0.2</td>\n",
              "      <td>587</td>\n",
              "      <td>4000</td>\n",
              "      <td>2348000</td>\n",
              "    </tr>\n",
              "    <tr>\n",
              "      <th>12</th>\n",
              "      <td>185/65R15 GREEN ATL</td>\n",
              "      <td>297</td>\n",
              "      <td>4000</td>\n",
              "      <td>1188000</td>\n",
              "      <td>NaN</td>\n",
              "      <td>NaN</td>\n",
              "      <td>NaN</td>\n",
              "      <td>33</td>\n",
              "      <td>4018.18</td>\n",
              "      <td>132600</td>\n",
              "      <td>132600</td>\n",
              "      <td>132000</td>\n",
              "      <td>600</td>\n",
              "      <td>0.45</td>\n",
              "      <td>264</td>\n",
              "      <td>4000</td>\n",
              "      <td>1056000</td>\n",
              "    </tr>\n",
              "    <tr>\n",
              "      <th>13</th>\n",
              "      <td>185/70R13 ATL</td>\n",
              "      <td>954</td>\n",
              "      <td>3200</td>\n",
              "      <td>3052800</td>\n",
              "      <td>NaN</td>\n",
              "      <td>NaN</td>\n",
              "      <td>NaN</td>\n",
              "      <td>944</td>\n",
              "      <td>3139.19</td>\n",
              "      <td>2963400</td>\n",
              "      <td>2963400</td>\n",
              "      <td>3020800</td>\n",
              "      <td>-57400</td>\n",
              "      <td>-1.94</td>\n",
              "      <td>10</td>\n",
              "      <td>3200</td>\n",
              "      <td>32000</td>\n",
              "    </tr>\n",
              "    <tr>\n",
              "      <th>14</th>\n",
              "      <td>185/70R14 GREEN ATL</td>\n",
              "      <td>718</td>\n",
              "      <td>3400</td>\n",
              "      <td>2441200</td>\n",
              "      <td>NaN</td>\n",
              "      <td>NaN</td>\n",
              "      <td>NaN</td>\n",
              "      <td>713</td>\n",
              "      <td>3270.41</td>\n",
              "      <td>2331800</td>\n",
              "      <td>2331800</td>\n",
              "      <td>2424200</td>\n",
              "      <td>-92400</td>\n",
              "      <td>-3.96</td>\n",
              "      <td>5</td>\n",
              "      <td>3400</td>\n",
              "      <td>17000</td>\n",
              "    </tr>\n",
              "  </tbody>\n",
              "</table>\n",
              "</div>"
            ],
            "text/plain": [
              "              Atlas Tyres Ltd                 Unnamed: 1 Unnamed: 2  \\\n",
              "0                 10612-00100                        NaN        NaN   \n",
              "1                     NAIROBI                        NaN        NaN   \n",
              "2               Stock Summary                        NaN        NaN   \n",
              "3   1-Jan-2019 to 30-Jun-2019                        NaN        NaN   \n",
              "4                         NaN            Atlas Tyres Ltd        NaN   \n",
              "5                 Particulars  1-Jan-2019 to 30-Jun-2019        NaN   \n",
              "6                         NaN            Opening Balance        NaN   \n",
              "7                         NaN                   Quantity       Rate   \n",
              "8                 155R12C ATL                        300       3100   \n",
              "9         175/70R13 GREEN ATL                        290       3000   \n",
              "10              175/70R14 ATL                        186       3100   \n",
              "11                175R13C ATL                        686       4000   \n",
              "12        185/65R15 GREEN ATL                        297       4000   \n",
              "13              185/70R13 ATL                        954       3200   \n",
              "14        185/70R14 GREEN ATL                        718       3400   \n",
              "\n",
              "   Unnamed: 3 Unnamed: 4 Unnamed: 5 Unnamed: 6 Unnamed: 7 Unnamed: 8  \\\n",
              "0         NaN        NaN        NaN        NaN        NaN        NaN   \n",
              "1         NaN        NaN        NaN        NaN        NaN        NaN   \n",
              "2         NaN        NaN        NaN        NaN        NaN        NaN   \n",
              "3         NaN        NaN        NaN        NaN        NaN        NaN   \n",
              "4         NaN        NaN        NaN        NaN        NaN        NaN   \n",
              "5         NaN        NaN        NaN        NaN        NaN        NaN   \n",
              "6         NaN    Inwards        NaN        NaN   Outwards        NaN   \n",
              "7       Value   Quantity       Rate      Value   Quantity       Rate   \n",
              "8      930000        NaN        NaN        NaN        149    3129.53   \n",
              "9      870000        NaN        NaN        NaN         46    3026.09   \n",
              "10     576600        NaN        NaN        NaN         67    3131.34   \n",
              "11    2744000        NaN        NaN        NaN         99    3991.92   \n",
              "12    1188000        NaN        NaN        NaN         33    4018.18   \n",
              "13    3052800        NaN        NaN        NaN        944    3139.19   \n",
              "14    2441200        NaN        NaN        NaN        713    3270.41   \n",
              "\n",
              "   Unnamed: 9  Unnamed: 10  Unnamed: 11   Unnamed: 12 Unnamed: 13  \\\n",
              "0         NaN          NaN          NaN           NaN         NaN   \n",
              "1         NaN          NaN          NaN           NaN         NaN   \n",
              "2         NaN          NaN          NaN           NaN         NaN   \n",
              "3         NaN          NaN          NaN           NaN         NaN   \n",
              "4         NaN          NaN          NaN           NaN         NaN   \n",
              "5         NaN          NaN          NaN           NaN         NaN   \n",
              "6         NaN          NaN          NaN           NaN         NaN   \n",
              "7       Value  Gross Value  Consumption  Gross Profit      Perc %   \n",
              "8      466300       466300       461900          4400        0.94   \n",
              "9      139200       139200       138000          1200        0.86   \n",
              "10     209800       209800       207700          2100           1   \n",
              "11     395200       395200       396000          -800        -0.2   \n",
              "12     132600       132600       132000           600        0.45   \n",
              "13    2963400      2963400      3020800        -57400       -1.94   \n",
              "14    2331800      2331800      2424200        -92400       -3.96   \n",
              "\n",
              "        Unnamed: 14 Unnamed: 15 Unnamed: 16  \n",
              "0               NaN         NaN         NaN  \n",
              "1               NaN         NaN         NaN  \n",
              "2               NaN         NaN         NaN  \n",
              "3               NaN         NaN         NaN  \n",
              "4               NaN         NaN         NaN  \n",
              "5               NaN         NaN         NaN  \n",
              "6   Closing Balance         NaN         NaN  \n",
              "7          Quantity        Rate       Value  \n",
              "8               151        3100      468100  \n",
              "9               244        3000      732000  \n",
              "10              119        3100      368900  \n",
              "11              587        4000     2348000  \n",
              "12              264        4000     1056000  \n",
              "13               10        3200       32000  \n",
              "14                5        3400       17000  "
            ]
          },
          "metadata": {
            "tags": []
          }
        }
      ]
    },
    {
      "cell_type": "code",
      "metadata": {
        "id": "q6eyaL9s_qYx",
        "colab_type": "code",
        "colab": {}
      },
      "source": [
        "df=xls.drop(xls.index[:8])\n"
      ],
      "execution_count": 0,
      "outputs": []
    },
    {
      "cell_type": "code",
      "metadata": {
        "id": "nMBcApsLAfKV",
        "colab_type": "code",
        "outputId": "ead7be4e-50df-4767-f7c6-86ecf1dc1722",
        "colab": {
          "base_uri": "https://localhost:8080/",
          "height": 312
        }
      },
      "source": [
        "display_all(df.head(4))"
      ],
      "execution_count": 103,
      "outputs": [
        {
          "output_type": "display_data",
          "data": {
            "text/html": [
              "<div>\n",
              "<style scoped>\n",
              "    .dataframe tbody tr th:only-of-type {\n",
              "        vertical-align: middle;\n",
              "    }\n",
              "\n",
              "    .dataframe tbody tr th {\n",
              "        vertical-align: top;\n",
              "    }\n",
              "\n",
              "    .dataframe thead th {\n",
              "        text-align: right;\n",
              "    }\n",
              "</style>\n",
              "<table border=\"1\" class=\"dataframe\">\n",
              "  <thead>\n",
              "    <tr style=\"text-align: right;\">\n",
              "      <th></th>\n",
              "      <th>Atlas Tyres Ltd</th>\n",
              "      <th>Unnamed: 1</th>\n",
              "      <th>Unnamed: 2</th>\n",
              "      <th>Unnamed: 3</th>\n",
              "      <th>Unnamed: 4</th>\n",
              "      <th>Unnamed: 5</th>\n",
              "      <th>Unnamed: 6</th>\n",
              "      <th>Unnamed: 7</th>\n",
              "      <th>Unnamed: 8</th>\n",
              "      <th>Unnamed: 9</th>\n",
              "      <th>Unnamed: 10</th>\n",
              "      <th>Unnamed: 11</th>\n",
              "      <th>Unnamed: 12</th>\n",
              "      <th>Unnamed: 13</th>\n",
              "      <th>Unnamed: 14</th>\n",
              "      <th>Unnamed: 15</th>\n",
              "      <th>Unnamed: 16</th>\n",
              "    </tr>\n",
              "  </thead>\n",
              "  <tbody>\n",
              "    <tr>\n",
              "      <th>8</th>\n",
              "      <td>155R12C ATL</td>\n",
              "      <td>300</td>\n",
              "      <td>3100</td>\n",
              "      <td>930000</td>\n",
              "      <td>NaN</td>\n",
              "      <td>NaN</td>\n",
              "      <td>NaN</td>\n",
              "      <td>149</td>\n",
              "      <td>3129.53</td>\n",
              "      <td>466300</td>\n",
              "      <td>466300</td>\n",
              "      <td>461900</td>\n",
              "      <td>4400</td>\n",
              "      <td>0.94</td>\n",
              "      <td>151</td>\n",
              "      <td>3100</td>\n",
              "      <td>468100</td>\n",
              "    </tr>\n",
              "    <tr>\n",
              "      <th>9</th>\n",
              "      <td>175/70R13 GREEN ATL</td>\n",
              "      <td>290</td>\n",
              "      <td>3000</td>\n",
              "      <td>870000</td>\n",
              "      <td>NaN</td>\n",
              "      <td>NaN</td>\n",
              "      <td>NaN</td>\n",
              "      <td>46</td>\n",
              "      <td>3026.09</td>\n",
              "      <td>139200</td>\n",
              "      <td>139200</td>\n",
              "      <td>138000</td>\n",
              "      <td>1200</td>\n",
              "      <td>0.86</td>\n",
              "      <td>244</td>\n",
              "      <td>3000</td>\n",
              "      <td>732000</td>\n",
              "    </tr>\n",
              "    <tr>\n",
              "      <th>10</th>\n",
              "      <td>175/70R14 ATL</td>\n",
              "      <td>186</td>\n",
              "      <td>3100</td>\n",
              "      <td>576600</td>\n",
              "      <td>NaN</td>\n",
              "      <td>NaN</td>\n",
              "      <td>NaN</td>\n",
              "      <td>67</td>\n",
              "      <td>3131.34</td>\n",
              "      <td>209800</td>\n",
              "      <td>209800</td>\n",
              "      <td>207700</td>\n",
              "      <td>2100</td>\n",
              "      <td>1</td>\n",
              "      <td>119</td>\n",
              "      <td>3100</td>\n",
              "      <td>368900</td>\n",
              "    </tr>\n",
              "    <tr>\n",
              "      <th>11</th>\n",
              "      <td>175R13C ATL</td>\n",
              "      <td>686</td>\n",
              "      <td>4000</td>\n",
              "      <td>2744000</td>\n",
              "      <td>NaN</td>\n",
              "      <td>NaN</td>\n",
              "      <td>NaN</td>\n",
              "      <td>99</td>\n",
              "      <td>3991.92</td>\n",
              "      <td>395200</td>\n",
              "      <td>395200</td>\n",
              "      <td>396000</td>\n",
              "      <td>-800</td>\n",
              "      <td>-0.2</td>\n",
              "      <td>587</td>\n",
              "      <td>4000</td>\n",
              "      <td>2348000</td>\n",
              "    </tr>\n",
              "  </tbody>\n",
              "</table>\n",
              "</div>"
            ],
            "text/plain": [
              "        Atlas Tyres Ltd Unnamed: 1 Unnamed: 2 Unnamed: 3 Unnamed: 4  \\\n",
              "8           155R12C ATL        300       3100     930000        NaN   \n",
              "9   175/70R13 GREEN ATL        290       3000     870000        NaN   \n",
              "10        175/70R14 ATL        186       3100     576600        NaN   \n",
              "11          175R13C ATL        686       4000    2744000        NaN   \n",
              "\n",
              "   Unnamed: 5 Unnamed: 6 Unnamed: 7 Unnamed: 8 Unnamed: 9 Unnamed: 10  \\\n",
              "8         NaN        NaN        149    3129.53     466300      466300   \n",
              "9         NaN        NaN         46    3026.09     139200      139200   \n",
              "10        NaN        NaN         67    3131.34     209800      209800   \n",
              "11        NaN        NaN         99    3991.92     395200      395200   \n",
              "\n",
              "   Unnamed: 11 Unnamed: 12 Unnamed: 13 Unnamed: 14 Unnamed: 15 Unnamed: 16  \n",
              "8       461900        4400        0.94         151        3100      468100  \n",
              "9       138000        1200        0.86         244        3000      732000  \n",
              "10      207700        2100           1         119        3100      368900  \n",
              "11      396000        -800        -0.2         587        4000     2348000  "
            ]
          },
          "metadata": {
            "tags": []
          }
        }
      ]
    },
    {
      "cell_type": "code",
      "metadata": {
        "id": "FgEfviGSCOP8",
        "colab_type": "code",
        "colab": {}
      },
      "source": [
        "#rename the column names\n",
        "df.columns=['Tyre_type','Open_quantity', 'Open_rate', 'Open_value', 'IN_quantity', 'IN_rate', 'IN_value', 'OUT_quantity', 'OUT_rate', 'OUT_value', 'OUT_grossval', 'OUT_consumption', 'OUT_grossprofit', 'OUT_percentage', 'Close_quantity', 'Close_rate', 'Close_value']"
      ],
      "execution_count": 0,
      "outputs": []
    },
    {
      "cell_type": "code",
      "metadata": {
        "id": "TEsVOAI0JeJi",
        "colab_type": "code",
        "outputId": "2b97c4fc-3be4-444c-d3f3-92e37da23296",
        "colab": {
          "base_uri": "https://localhost:8080/",
          "height": 343
        }
      },
      "source": [
        "display_all(df.head(5))"
      ],
      "execution_count": 105,
      "outputs": [
        {
          "output_type": "display_data",
          "data": {
            "text/html": [
              "<div>\n",
              "<style scoped>\n",
              "    .dataframe tbody tr th:only-of-type {\n",
              "        vertical-align: middle;\n",
              "    }\n",
              "\n",
              "    .dataframe tbody tr th {\n",
              "        vertical-align: top;\n",
              "    }\n",
              "\n",
              "    .dataframe thead th {\n",
              "        text-align: right;\n",
              "    }\n",
              "</style>\n",
              "<table border=\"1\" class=\"dataframe\">\n",
              "  <thead>\n",
              "    <tr style=\"text-align: right;\">\n",
              "      <th></th>\n",
              "      <th>Tyre_type</th>\n",
              "      <th>Open_quantity</th>\n",
              "      <th>Open_rate</th>\n",
              "      <th>Open_value</th>\n",
              "      <th>IN_quantity</th>\n",
              "      <th>IN_rate</th>\n",
              "      <th>IN_value</th>\n",
              "      <th>OUT_quantity</th>\n",
              "      <th>OUT_rate</th>\n",
              "      <th>OUT_value</th>\n",
              "      <th>OUT_grossval</th>\n",
              "      <th>OUT_consumption</th>\n",
              "      <th>OUT_grossprofit</th>\n",
              "      <th>OUT_percentage</th>\n",
              "      <th>Close_quantity</th>\n",
              "      <th>Close_rate</th>\n",
              "      <th>Close_value</th>\n",
              "    </tr>\n",
              "  </thead>\n",
              "  <tbody>\n",
              "    <tr>\n",
              "      <th>8</th>\n",
              "      <td>155R12C ATL</td>\n",
              "      <td>300</td>\n",
              "      <td>3100</td>\n",
              "      <td>930000</td>\n",
              "      <td>NaN</td>\n",
              "      <td>NaN</td>\n",
              "      <td>NaN</td>\n",
              "      <td>149</td>\n",
              "      <td>3129.53</td>\n",
              "      <td>466300</td>\n",
              "      <td>466300</td>\n",
              "      <td>461900</td>\n",
              "      <td>4400</td>\n",
              "      <td>0.94</td>\n",
              "      <td>151</td>\n",
              "      <td>3100</td>\n",
              "      <td>468100</td>\n",
              "    </tr>\n",
              "    <tr>\n",
              "      <th>9</th>\n",
              "      <td>175/70R13 GREEN ATL</td>\n",
              "      <td>290</td>\n",
              "      <td>3000</td>\n",
              "      <td>870000</td>\n",
              "      <td>NaN</td>\n",
              "      <td>NaN</td>\n",
              "      <td>NaN</td>\n",
              "      <td>46</td>\n",
              "      <td>3026.09</td>\n",
              "      <td>139200</td>\n",
              "      <td>139200</td>\n",
              "      <td>138000</td>\n",
              "      <td>1200</td>\n",
              "      <td>0.86</td>\n",
              "      <td>244</td>\n",
              "      <td>3000</td>\n",
              "      <td>732000</td>\n",
              "    </tr>\n",
              "    <tr>\n",
              "      <th>10</th>\n",
              "      <td>175/70R14 ATL</td>\n",
              "      <td>186</td>\n",
              "      <td>3100</td>\n",
              "      <td>576600</td>\n",
              "      <td>NaN</td>\n",
              "      <td>NaN</td>\n",
              "      <td>NaN</td>\n",
              "      <td>67</td>\n",
              "      <td>3131.34</td>\n",
              "      <td>209800</td>\n",
              "      <td>209800</td>\n",
              "      <td>207700</td>\n",
              "      <td>2100</td>\n",
              "      <td>1</td>\n",
              "      <td>119</td>\n",
              "      <td>3100</td>\n",
              "      <td>368900</td>\n",
              "    </tr>\n",
              "    <tr>\n",
              "      <th>11</th>\n",
              "      <td>175R13C ATL</td>\n",
              "      <td>686</td>\n",
              "      <td>4000</td>\n",
              "      <td>2744000</td>\n",
              "      <td>NaN</td>\n",
              "      <td>NaN</td>\n",
              "      <td>NaN</td>\n",
              "      <td>99</td>\n",
              "      <td>3991.92</td>\n",
              "      <td>395200</td>\n",
              "      <td>395200</td>\n",
              "      <td>396000</td>\n",
              "      <td>-800</td>\n",
              "      <td>-0.2</td>\n",
              "      <td>587</td>\n",
              "      <td>4000</td>\n",
              "      <td>2348000</td>\n",
              "    </tr>\n",
              "    <tr>\n",
              "      <th>12</th>\n",
              "      <td>185/65R15 GREEN ATL</td>\n",
              "      <td>297</td>\n",
              "      <td>4000</td>\n",
              "      <td>1188000</td>\n",
              "      <td>NaN</td>\n",
              "      <td>NaN</td>\n",
              "      <td>NaN</td>\n",
              "      <td>33</td>\n",
              "      <td>4018.18</td>\n",
              "      <td>132600</td>\n",
              "      <td>132600</td>\n",
              "      <td>132000</td>\n",
              "      <td>600</td>\n",
              "      <td>0.45</td>\n",
              "      <td>264</td>\n",
              "      <td>4000</td>\n",
              "      <td>1056000</td>\n",
              "    </tr>\n",
              "  </tbody>\n",
              "</table>\n",
              "</div>"
            ],
            "text/plain": [
              "              Tyre_type Open_quantity Open_rate Open_value IN_quantity  \\\n",
              "8           155R12C ATL           300      3100     930000         NaN   \n",
              "9   175/70R13 GREEN ATL           290      3000     870000         NaN   \n",
              "10        175/70R14 ATL           186      3100     576600         NaN   \n",
              "11          175R13C ATL           686      4000    2744000         NaN   \n",
              "12  185/65R15 GREEN ATL           297      4000    1188000         NaN   \n",
              "\n",
              "   IN_rate IN_value OUT_quantity OUT_rate OUT_value OUT_grossval  \\\n",
              "8      NaN      NaN          149  3129.53    466300       466300   \n",
              "9      NaN      NaN           46  3026.09    139200       139200   \n",
              "10     NaN      NaN           67  3131.34    209800       209800   \n",
              "11     NaN      NaN           99  3991.92    395200       395200   \n",
              "12     NaN      NaN           33  4018.18    132600       132600   \n",
              "\n",
              "   OUT_consumption OUT_grossprofit OUT_percentage Close_quantity Close_rate  \\\n",
              "8           461900            4400           0.94            151       3100   \n",
              "9           138000            1200           0.86            244       3000   \n",
              "10          207700            2100              1            119       3100   \n",
              "11          396000            -800           -0.2            587       4000   \n",
              "12          132000             600           0.45            264       4000   \n",
              "\n",
              "   Close_value  \n",
              "8       468100  \n",
              "9       732000  \n",
              "10      368900  \n",
              "11     2348000  \n",
              "12     1056000  "
            ]
          },
          "metadata": {
            "tags": []
          }
        }
      ]
    },
    {
      "cell_type": "code",
      "metadata": {
        "id": "SMoIv9ZkJuaQ",
        "colab_type": "code",
        "outputId": "a8a2a1fa-483d-4d9c-8dd1-37a18379c1d2",
        "colab": {
          "base_uri": "https://localhost:8080/",
          "height": 323
        }
      },
      "source": [
        "#To show the missing values\n",
        "display_all(df.isnull().sum().sort_index()/len(df))"
      ],
      "execution_count": 106,
      "outputs": [
        {
          "output_type": "display_data",
          "data": {
            "text/plain": [
              "Close_quantity     0.000000\n",
              "Close_rate         0.027778\n",
              "Close_value        0.000000\n",
              "IN_quantity        0.555556\n",
              "IN_rate            0.583333\n",
              "IN_value           0.555556\n",
              "OUT_consumption    0.111111\n",
              "OUT_grossprofit    0.222222\n",
              "OUT_grossval       0.111111\n",
              "OUT_percentage     0.222222\n",
              "OUT_quantity       0.111111\n",
              "OUT_rate           0.138889\n",
              "OUT_value          0.111111\n",
              "Open_quantity      0.361111\n",
              "Open_rate          0.388889\n",
              "Open_value         0.361111\n",
              "Tyre_type          0.000000\n",
              "dtype: float64"
            ]
          },
          "metadata": {
            "tags": []
          }
        }
      ]
    },
    {
      "cell_type": "code",
      "metadata": {
        "id": "QmWmisIxKPYK",
        "colab_type": "code",
        "colab": {}
      },
      "source": [
        "#Fill the missing values with 0\n",
        "df=df.fillna(0)"
      ],
      "execution_count": 0,
      "outputs": []
    },
    {
      "cell_type": "markdown",
      "metadata": {
        "id": "_AFL1EiFLoRA",
        "colab_type": "text"
      },
      "source": [
        "Out_quantity + Close_Quantity is equal to the opening quantity + Inward quantity"
      ]
    },
    {
      "cell_type": "code",
      "metadata": {
        "id": "H8mCkmdBKuzC",
        "colab_type": "code",
        "colab": {}
      },
      "source": [
        ""
      ],
      "execution_count": 0,
      "outputs": []
    },
    {
      "cell_type": "code",
      "metadata": {
        "id": "nsPKqWHhM013",
        "colab_type": "code",
        "colab": {}
      },
      "source": [
        "df=df.drop(df.columns[1:7], axis='columns')\n",
        "\n"
      ],
      "execution_count": 0,
      "outputs": []
    },
    {
      "cell_type": "code",
      "metadata": {
        "id": "zOnEK0IwP5uO",
        "colab_type": "code",
        "outputId": "d1c48607-ff3e-41e1-9549-13c800a952d3",
        "colab": {
          "base_uri": "https://localhost:8080/",
          "height": 238
        }
      },
      "source": [
        "display_all(df.head(5))"
      ],
      "execution_count": 109,
      "outputs": [
        {
          "output_type": "display_data",
          "data": {
            "text/html": [
              "<div>\n",
              "<style scoped>\n",
              "    .dataframe tbody tr th:only-of-type {\n",
              "        vertical-align: middle;\n",
              "    }\n",
              "\n",
              "    .dataframe tbody tr th {\n",
              "        vertical-align: top;\n",
              "    }\n",
              "\n",
              "    .dataframe thead th {\n",
              "        text-align: right;\n",
              "    }\n",
              "</style>\n",
              "<table border=\"1\" class=\"dataframe\">\n",
              "  <thead>\n",
              "    <tr style=\"text-align: right;\">\n",
              "      <th></th>\n",
              "      <th>Tyre_type</th>\n",
              "      <th>OUT_quantity</th>\n",
              "      <th>OUT_rate</th>\n",
              "      <th>OUT_value</th>\n",
              "      <th>OUT_grossval</th>\n",
              "      <th>OUT_consumption</th>\n",
              "      <th>OUT_grossprofit</th>\n",
              "      <th>OUT_percentage</th>\n",
              "      <th>Close_quantity</th>\n",
              "      <th>Close_rate</th>\n",
              "      <th>Close_value</th>\n",
              "    </tr>\n",
              "  </thead>\n",
              "  <tbody>\n",
              "    <tr>\n",
              "      <th>8</th>\n",
              "      <td>155R12C ATL</td>\n",
              "      <td>149</td>\n",
              "      <td>3129.53</td>\n",
              "      <td>466300</td>\n",
              "      <td>466300</td>\n",
              "      <td>461900.0</td>\n",
              "      <td>4400.0</td>\n",
              "      <td>0.94</td>\n",
              "      <td>151</td>\n",
              "      <td>3100.0</td>\n",
              "      <td>468100.0</td>\n",
              "    </tr>\n",
              "    <tr>\n",
              "      <th>9</th>\n",
              "      <td>175/70R13 GREEN ATL</td>\n",
              "      <td>46</td>\n",
              "      <td>3026.09</td>\n",
              "      <td>139200</td>\n",
              "      <td>139200</td>\n",
              "      <td>138000.0</td>\n",
              "      <td>1200.0</td>\n",
              "      <td>0.86</td>\n",
              "      <td>244</td>\n",
              "      <td>3000.0</td>\n",
              "      <td>732000.0</td>\n",
              "    </tr>\n",
              "    <tr>\n",
              "      <th>10</th>\n",
              "      <td>175/70R14 ATL</td>\n",
              "      <td>67</td>\n",
              "      <td>3131.34</td>\n",
              "      <td>209800</td>\n",
              "      <td>209800</td>\n",
              "      <td>207700.0</td>\n",
              "      <td>2100.0</td>\n",
              "      <td>1.00</td>\n",
              "      <td>119</td>\n",
              "      <td>3100.0</td>\n",
              "      <td>368900.0</td>\n",
              "    </tr>\n",
              "    <tr>\n",
              "      <th>11</th>\n",
              "      <td>175R13C ATL</td>\n",
              "      <td>99</td>\n",
              "      <td>3991.92</td>\n",
              "      <td>395200</td>\n",
              "      <td>395200</td>\n",
              "      <td>396000.0</td>\n",
              "      <td>-800.0</td>\n",
              "      <td>-0.20</td>\n",
              "      <td>587</td>\n",
              "      <td>4000.0</td>\n",
              "      <td>2348000.0</td>\n",
              "    </tr>\n",
              "    <tr>\n",
              "      <th>12</th>\n",
              "      <td>185/65R15 GREEN ATL</td>\n",
              "      <td>33</td>\n",
              "      <td>4018.18</td>\n",
              "      <td>132600</td>\n",
              "      <td>132600</td>\n",
              "      <td>132000.0</td>\n",
              "      <td>600.0</td>\n",
              "      <td>0.45</td>\n",
              "      <td>264</td>\n",
              "      <td>4000.0</td>\n",
              "      <td>1056000.0</td>\n",
              "    </tr>\n",
              "  </tbody>\n",
              "</table>\n",
              "</div>"
            ],
            "text/plain": [
              "              Tyre_type  OUT_quantity  OUT_rate  OUT_value  OUT_grossval  \\\n",
              "8           155R12C ATL           149   3129.53     466300        466300   \n",
              "9   175/70R13 GREEN ATL            46   3026.09     139200        139200   \n",
              "10        175/70R14 ATL            67   3131.34     209800        209800   \n",
              "11          175R13C ATL            99   3991.92     395200        395200   \n",
              "12  185/65R15 GREEN ATL            33   4018.18     132600        132600   \n",
              "\n",
              "    OUT_consumption  OUT_grossprofit  OUT_percentage  Close_quantity  \\\n",
              "8          461900.0           4400.0            0.94             151   \n",
              "9          138000.0           1200.0            0.86             244   \n",
              "10         207700.0           2100.0            1.00             119   \n",
              "11         396000.0           -800.0           -0.20             587   \n",
              "12         132000.0            600.0            0.45             264   \n",
              "\n",
              "    Close_rate  Close_value  \n",
              "8       3100.0     468100.0  \n",
              "9       3000.0     732000.0  \n",
              "10      3100.0     368900.0  \n",
              "11      4000.0    2348000.0  \n",
              "12      4000.0    1056000.0  "
            ]
          },
          "metadata": {
            "tags": []
          }
        }
      ]
    },
    {
      "cell_type": "code",
      "metadata": {
        "id": "YgR1NA5gNDvj",
        "colab_type": "code",
        "colab": {}
      },
      "source": [
        "df=df.drop(df.columns[4:8], axis='columns')\n"
      ],
      "execution_count": 0,
      "outputs": []
    },
    {
      "cell_type": "code",
      "metadata": {
        "id": "ocPhRgVGNdi5",
        "colab_type": "code",
        "colab": {}
      },
      "source": [
        "df=df.drop(df.index[[-1]])"
      ],
      "execution_count": 0,
      "outputs": []
    },
    {
      "cell_type": "code",
      "metadata": {
        "id": "wjvb2qJYPoXX",
        "colab_type": "code",
        "outputId": "1ec6fc02-0055-46d6-e69d-b2952c49ea8c",
        "colab": {
          "base_uri": "https://localhost:8080/",
          "height": 204
        }
      },
      "source": [
        "display_all(df.head(5))"
      ],
      "execution_count": 112,
      "outputs": [
        {
          "output_type": "display_data",
          "data": {
            "text/html": [
              "<div>\n",
              "<style scoped>\n",
              "    .dataframe tbody tr th:only-of-type {\n",
              "        vertical-align: middle;\n",
              "    }\n",
              "\n",
              "    .dataframe tbody tr th {\n",
              "        vertical-align: top;\n",
              "    }\n",
              "\n",
              "    .dataframe thead th {\n",
              "        text-align: right;\n",
              "    }\n",
              "</style>\n",
              "<table border=\"1\" class=\"dataframe\">\n",
              "  <thead>\n",
              "    <tr style=\"text-align: right;\">\n",
              "      <th></th>\n",
              "      <th>Tyre_type</th>\n",
              "      <th>OUT_quantity</th>\n",
              "      <th>OUT_rate</th>\n",
              "      <th>OUT_value</th>\n",
              "      <th>Close_quantity</th>\n",
              "      <th>Close_rate</th>\n",
              "      <th>Close_value</th>\n",
              "    </tr>\n",
              "  </thead>\n",
              "  <tbody>\n",
              "    <tr>\n",
              "      <th>8</th>\n",
              "      <td>155R12C ATL</td>\n",
              "      <td>149</td>\n",
              "      <td>3129.53</td>\n",
              "      <td>466300</td>\n",
              "      <td>151</td>\n",
              "      <td>3100.0</td>\n",
              "      <td>468100.0</td>\n",
              "    </tr>\n",
              "    <tr>\n",
              "      <th>9</th>\n",
              "      <td>175/70R13 GREEN ATL</td>\n",
              "      <td>46</td>\n",
              "      <td>3026.09</td>\n",
              "      <td>139200</td>\n",
              "      <td>244</td>\n",
              "      <td>3000.0</td>\n",
              "      <td>732000.0</td>\n",
              "    </tr>\n",
              "    <tr>\n",
              "      <th>10</th>\n",
              "      <td>175/70R14 ATL</td>\n",
              "      <td>67</td>\n",
              "      <td>3131.34</td>\n",
              "      <td>209800</td>\n",
              "      <td>119</td>\n",
              "      <td>3100.0</td>\n",
              "      <td>368900.0</td>\n",
              "    </tr>\n",
              "    <tr>\n",
              "      <th>11</th>\n",
              "      <td>175R13C ATL</td>\n",
              "      <td>99</td>\n",
              "      <td>3991.92</td>\n",
              "      <td>395200</td>\n",
              "      <td>587</td>\n",
              "      <td>4000.0</td>\n",
              "      <td>2348000.0</td>\n",
              "    </tr>\n",
              "    <tr>\n",
              "      <th>12</th>\n",
              "      <td>185/65R15 GREEN ATL</td>\n",
              "      <td>33</td>\n",
              "      <td>4018.18</td>\n",
              "      <td>132600</td>\n",
              "      <td>264</td>\n",
              "      <td>4000.0</td>\n",
              "      <td>1056000.0</td>\n",
              "    </tr>\n",
              "  </tbody>\n",
              "</table>\n",
              "</div>"
            ],
            "text/plain": [
              "              Tyre_type  OUT_quantity  OUT_rate  OUT_value  Close_quantity  \\\n",
              "8           155R12C ATL           149   3129.53     466300             151   \n",
              "9   175/70R13 GREEN ATL            46   3026.09     139200             244   \n",
              "10        175/70R14 ATL            67   3131.34     209800             119   \n",
              "11          175R13C ATL            99   3991.92     395200             587   \n",
              "12  185/65R15 GREEN ATL            33   4018.18     132600             264   \n",
              "\n",
              "    Close_rate  Close_value  \n",
              "8       3100.0     468100.0  \n",
              "9       3000.0     732000.0  \n",
              "10      3100.0     368900.0  \n",
              "11      4000.0    2348000.0  \n",
              "12      4000.0    1056000.0  "
            ]
          },
          "metadata": {
            "tags": []
          }
        }
      ]
    },
    {
      "cell_type": "code",
      "metadata": {
        "id": "PbUGSAReQPql",
        "colab_type": "code",
        "colab": {}
      },
      "source": [
        "#Reset the index\n",
        "df = df.reset_index(drop=True)"
      ],
      "execution_count": 0,
      "outputs": []
    },
    {
      "cell_type": "code",
      "metadata": {
        "id": "q8xMze6BQZLD",
        "colab_type": "code",
        "outputId": "bb18bcf5-ada5-4988-d4a7-784127f57c3c",
        "colab": {
          "base_uri": "https://localhost:8080/",
          "height": 204
        }
      },
      "source": [
        "display_all(df.head(5))"
      ],
      "execution_count": 114,
      "outputs": [
        {
          "output_type": "display_data",
          "data": {
            "text/html": [
              "<div>\n",
              "<style scoped>\n",
              "    .dataframe tbody tr th:only-of-type {\n",
              "        vertical-align: middle;\n",
              "    }\n",
              "\n",
              "    .dataframe tbody tr th {\n",
              "        vertical-align: top;\n",
              "    }\n",
              "\n",
              "    .dataframe thead th {\n",
              "        text-align: right;\n",
              "    }\n",
              "</style>\n",
              "<table border=\"1\" class=\"dataframe\">\n",
              "  <thead>\n",
              "    <tr style=\"text-align: right;\">\n",
              "      <th></th>\n",
              "      <th>Tyre_type</th>\n",
              "      <th>OUT_quantity</th>\n",
              "      <th>OUT_rate</th>\n",
              "      <th>OUT_value</th>\n",
              "      <th>Close_quantity</th>\n",
              "      <th>Close_rate</th>\n",
              "      <th>Close_value</th>\n",
              "    </tr>\n",
              "  </thead>\n",
              "  <tbody>\n",
              "    <tr>\n",
              "      <th>0</th>\n",
              "      <td>155R12C ATL</td>\n",
              "      <td>149</td>\n",
              "      <td>3129.53</td>\n",
              "      <td>466300</td>\n",
              "      <td>151</td>\n",
              "      <td>3100.0</td>\n",
              "      <td>468100.0</td>\n",
              "    </tr>\n",
              "    <tr>\n",
              "      <th>1</th>\n",
              "      <td>175/70R13 GREEN ATL</td>\n",
              "      <td>46</td>\n",
              "      <td>3026.09</td>\n",
              "      <td>139200</td>\n",
              "      <td>244</td>\n",
              "      <td>3000.0</td>\n",
              "      <td>732000.0</td>\n",
              "    </tr>\n",
              "    <tr>\n",
              "      <th>2</th>\n",
              "      <td>175/70R14 ATL</td>\n",
              "      <td>67</td>\n",
              "      <td>3131.34</td>\n",
              "      <td>209800</td>\n",
              "      <td>119</td>\n",
              "      <td>3100.0</td>\n",
              "      <td>368900.0</td>\n",
              "    </tr>\n",
              "    <tr>\n",
              "      <th>3</th>\n",
              "      <td>175R13C ATL</td>\n",
              "      <td>99</td>\n",
              "      <td>3991.92</td>\n",
              "      <td>395200</td>\n",
              "      <td>587</td>\n",
              "      <td>4000.0</td>\n",
              "      <td>2348000.0</td>\n",
              "    </tr>\n",
              "    <tr>\n",
              "      <th>4</th>\n",
              "      <td>185/65R15 GREEN ATL</td>\n",
              "      <td>33</td>\n",
              "      <td>4018.18</td>\n",
              "      <td>132600</td>\n",
              "      <td>264</td>\n",
              "      <td>4000.0</td>\n",
              "      <td>1056000.0</td>\n",
              "    </tr>\n",
              "  </tbody>\n",
              "</table>\n",
              "</div>"
            ],
            "text/plain": [
              "             Tyre_type  OUT_quantity  OUT_rate  OUT_value  Close_quantity  \\\n",
              "0          155R12C ATL           149   3129.53     466300             151   \n",
              "1  175/70R13 GREEN ATL            46   3026.09     139200             244   \n",
              "2        175/70R14 ATL            67   3131.34     209800             119   \n",
              "3          175R13C ATL            99   3991.92     395200             587   \n",
              "4  185/65R15 GREEN ATL            33   4018.18     132600             264   \n",
              "\n",
              "   Close_rate  Close_value  \n",
              "0      3100.0     468100.0  \n",
              "1      3000.0     732000.0  \n",
              "2      3100.0     368900.0  \n",
              "3      4000.0    2348000.0  \n",
              "4      4000.0    1056000.0  "
            ]
          },
          "metadata": {
            "tags": []
          }
        }
      ]
    },
    {
      "cell_type": "markdown",
      "metadata": {
        "id": "icLMuDhtbrOS",
        "colab_type": "text"
      },
      "source": [
        "Add a column of accumulated to show the initial amount of tyres before sale"
      ]
    },
    {
      "cell_type": "code",
      "metadata": {
        "id": "kM6atLS6Qazz",
        "colab_type": "code",
        "colab": {}
      },
      "source": [
        "df['Accumulated']= df['OUT_quantity'] + df['Close_quantity']"
      ],
      "execution_count": 0,
      "outputs": []
    },
    {
      "cell_type": "code",
      "metadata": {
        "id": "6opjiEUYYfHW",
        "colab_type": "code",
        "outputId": "fa38a332-3b82-402d-bbde-a73831becf0a",
        "colab": {
          "base_uri": "https://localhost:8080/",
          "height": 204
        }
      },
      "source": [
        "display_all(df.head(5))"
      ],
      "execution_count": 116,
      "outputs": [
        {
          "output_type": "display_data",
          "data": {
            "text/html": [
              "<div>\n",
              "<style scoped>\n",
              "    .dataframe tbody tr th:only-of-type {\n",
              "        vertical-align: middle;\n",
              "    }\n",
              "\n",
              "    .dataframe tbody tr th {\n",
              "        vertical-align: top;\n",
              "    }\n",
              "\n",
              "    .dataframe thead th {\n",
              "        text-align: right;\n",
              "    }\n",
              "</style>\n",
              "<table border=\"1\" class=\"dataframe\">\n",
              "  <thead>\n",
              "    <tr style=\"text-align: right;\">\n",
              "      <th></th>\n",
              "      <th>Tyre_type</th>\n",
              "      <th>OUT_quantity</th>\n",
              "      <th>OUT_rate</th>\n",
              "      <th>OUT_value</th>\n",
              "      <th>Close_quantity</th>\n",
              "      <th>Close_rate</th>\n",
              "      <th>Close_value</th>\n",
              "      <th>Accumulated</th>\n",
              "    </tr>\n",
              "  </thead>\n",
              "  <tbody>\n",
              "    <tr>\n",
              "      <th>0</th>\n",
              "      <td>155R12C ATL</td>\n",
              "      <td>149</td>\n",
              "      <td>3129.53</td>\n",
              "      <td>466300</td>\n",
              "      <td>151</td>\n",
              "      <td>3100.0</td>\n",
              "      <td>468100.0</td>\n",
              "      <td>300</td>\n",
              "    </tr>\n",
              "    <tr>\n",
              "      <th>1</th>\n",
              "      <td>175/70R13 GREEN ATL</td>\n",
              "      <td>46</td>\n",
              "      <td>3026.09</td>\n",
              "      <td>139200</td>\n",
              "      <td>244</td>\n",
              "      <td>3000.0</td>\n",
              "      <td>732000.0</td>\n",
              "      <td>290</td>\n",
              "    </tr>\n",
              "    <tr>\n",
              "      <th>2</th>\n",
              "      <td>175/70R14 ATL</td>\n",
              "      <td>67</td>\n",
              "      <td>3131.34</td>\n",
              "      <td>209800</td>\n",
              "      <td>119</td>\n",
              "      <td>3100.0</td>\n",
              "      <td>368900.0</td>\n",
              "      <td>186</td>\n",
              "    </tr>\n",
              "    <tr>\n",
              "      <th>3</th>\n",
              "      <td>175R13C ATL</td>\n",
              "      <td>99</td>\n",
              "      <td>3991.92</td>\n",
              "      <td>395200</td>\n",
              "      <td>587</td>\n",
              "      <td>4000.0</td>\n",
              "      <td>2348000.0</td>\n",
              "      <td>686</td>\n",
              "    </tr>\n",
              "    <tr>\n",
              "      <th>4</th>\n",
              "      <td>185/65R15 GREEN ATL</td>\n",
              "      <td>33</td>\n",
              "      <td>4018.18</td>\n",
              "      <td>132600</td>\n",
              "      <td>264</td>\n",
              "      <td>4000.0</td>\n",
              "      <td>1056000.0</td>\n",
              "      <td>297</td>\n",
              "    </tr>\n",
              "  </tbody>\n",
              "</table>\n",
              "</div>"
            ],
            "text/plain": [
              "             Tyre_type  OUT_quantity  OUT_rate  OUT_value  Close_quantity  \\\n",
              "0          155R12C ATL           149   3129.53     466300             151   \n",
              "1  175/70R13 GREEN ATL            46   3026.09     139200             244   \n",
              "2        175/70R14 ATL            67   3131.34     209800             119   \n",
              "3          175R13C ATL            99   3991.92     395200             587   \n",
              "4  185/65R15 GREEN ATL            33   4018.18     132600             264   \n",
              "\n",
              "   Close_rate  Close_value  Accumulated  \n",
              "0      3100.0     468100.0          300  \n",
              "1      3000.0     732000.0          290  \n",
              "2      3100.0     368900.0          186  \n",
              "3      4000.0    2348000.0          686  \n",
              "4      4000.0    1056000.0          297  "
            ]
          },
          "metadata": {
            "tags": []
          }
        }
      ]
    },
    {
      "cell_type": "code",
      "metadata": {
        "id": "cPjgmDb5Yiu4",
        "colab_type": "code",
        "colab": {}
      },
      "source": [
        ""
      ],
      "execution_count": 0,
      "outputs": []
    },
    {
      "cell_type": "markdown",
      "metadata": {
        "id": "cY-COWdQbyDF",
        "colab_type": "text"
      },
      "source": [
        "#Options on how to visualize (To be continued..)\n",
        " \n",
        "\n",
        "1.   Visualize quantity differences (accumulated, closing) \n",
        "2.   Visualize sale amounts (accumulated, closing)\n",
        "3.   Standardize the quantities according to their different rates, then plot the quantity\n",
        "\n"
      ]
    },
    {
      "cell_type": "code",
      "metadata": {
        "id": "9iEsSIlSOmt8",
        "colab_type": "code",
        "colab": {}
      },
      "source": [
        "import matplotlib.pyplot as plt"
      ],
      "execution_count": 0,
      "outputs": []
    },
    {
      "cell_type": "code",
      "metadata": {
        "id": "ze96whljMKNu",
        "colab_type": "code",
        "colab": {
          "base_uri": "https://localhost:8080/",
          "height": 286
        },
        "outputId": "1e7a9fb7-561d-487e-cba4-0683f8413ac3"
      },
      "source": [
        "df['Accumulated'].value_counts().sort_index().plot.barh()\n"
      ],
      "execution_count": 118,
      "outputs": [
        {
          "output_type": "execute_result",
          "data": {
            "text/plain": [
              "<matplotlib.axes._subplots.AxesSubplot at 0x7fc373a07e48>"
            ]
          },
          "metadata": {
            "tags": []
          },
          "execution_count": 118
        },
        {
          "output_type": "display_data",
          "data": {
            "image/png": "[encoded data removed]",
            "text/plain": [
              "<Figure size 432x288 with 1 Axes>"
            ]
          },
          "metadata": {
            "tags": []
          }
        }
      ]
    },
    {
      "cell_type": "code",
      "metadata": {
        "id": "peKsj48fMONt",
        "colab_type": "code",
        "colab": {
          "base_uri": "https://localhost:8080/",
          "height": 301
        },
        "outputId": "9678f019-a231-48ee-9589-cf794bfe4fba"
      },
      "source": [
        "df['Accumulated'].value_counts().sort_index().plot.bar()"
      ],
      "execution_count": 119,
      "outputs": [
        {
          "output_type": "execute_result",
          "data": {
            "text/plain": [
              "<matplotlib.axes._subplots.AxesSubplot at 0x7fc373980390>"
            ]
          },
          "metadata": {
            "tags": []
          },
          "execution_count": 119
        },
        {
          "output_type": "display_data",
          "data": {
            "image/png": "[encoded data removed]",
            "text/plain": [
              "<Figure size 432x288 with 1 Axes>"
            ]
          },
          "metadata": {
            "tags": []
          }
        }
      ]
    },
    {
      "cell_type": "code",
      "metadata": {
        "id": "5SfT5OjSMXjC",
        "colab_type": "code",
        "colab": {
          "base_uri": "https://localhost:8080/",
          "height": 289
        },
        "outputId": "c3848dc3-2612-4695-e2a4-ee5ed5a5f215"
      },
      "source": [
        "df['Accumulated'].plot.bar(stacked=True)"
      ],
      "execution_count": 120,
      "outputs": [
        {
          "output_type": "execute_result",
          "data": {
            "text/plain": [
              "<matplotlib.axes._subplots.AxesSubplot at 0x7fc3738cb4e0>"
            ]
          },
          "metadata": {
            "tags": []
          },
          "execution_count": 120
        },
        {
          "output_type": "display_data",
          "data": {
            "image/png": "[encoded data removed]",
            "text/plain": [
              "<Figure size 432x288 with 1 Axes>"
            ]
          },
          "metadata": {
            "tags": []
          }
        }
      ]
    },
    {
      "cell_type": "code",
      "metadata": {
        "id": "AgGcFpLbMrNK",
        "colab_type": "code",
        "colab": {
          "base_uri": "https://localhost:8080/",
          "height": 1000
        },
        "outputId": "1b60868b-db69-417c-aec4-0285c2a10ad4"
      },
      "source": [
        "plt.pie(df['OUT_quantity'], labels=df['Tyre_type'])"
      ],
      "execution_count": 121,
      "outputs": [
        {
          "output_type": "execute_result",
          "data": {
            "text/plain": [
              "([<matplotlib.patches.Wedge at 0x7fc373cb4cc0>,\n",
              "  <matplotlib.patches.Wedge at 0x7fc373cb4470>,\n",
              "  <matplotlib.patches.Wedge at 0x7fc373cbd080>,\n",
              "  <matplotlib.patches.Wedge at 0x7fc373cbd6a0>,\n",
              "  <matplotlib.patches.Wedge at 0x7fc373cbdcf8>,\n",
              "  <matplotlib.patches.Wedge at 0x7fc373cbdd68>,\n",
              "  <matplotlib.patches.Wedge at 0x7fc373c1eeb8>,\n",
              "  <matplotlib.patches.Wedge at 0x7fc373c1e860>,\n",
              "  <matplotlib.patches.Wedge at 0x7fc373c1e9b0>,\n",
              "  <matplotlib.patches.Wedge at 0x7fc373c38860>,\n",
              "  <matplotlib.patches.Wedge at 0x7fc37377e4e0>,\n",
              "  <matplotlib.patches.Wedge at 0x7fc373d07c50>,\n",
              "  <matplotlib.patches.Wedge at 0x7fc373d07080>,\n",
              "  <matplotlib.patches.Wedge at 0x7fc373ce04a8>,\n",
              "  <matplotlib.patches.Wedge at 0x7fc373dbc550>,\n",
              "  <matplotlib.patches.Wedge at 0x7fc373c80c88>,\n",
              "  <matplotlib.patches.Wedge at 0x7fc373c802b0>,\n",
              "  <matplotlib.patches.Wedge at 0x7fc373d48668>,\n",
              "  <matplotlib.patches.Wedge at 0x7fc373f822e8>,\n",
              "  <matplotlib.patches.Wedge at 0x7fc3741418d0>,\n",
              "  <matplotlib.patches.Wedge at 0x7fc373e12a58>,\n",
              "  <matplotlib.patches.Wedge at 0x7fc373e12748>,\n",
              "  <matplotlib.patches.Wedge at 0x7fc3737189e8>,\n",
              "  <matplotlib.patches.Wedge at 0x7fc373718eb8>,\n",
              "  <matplotlib.patches.Wedge at 0x7fc373c9f3c8>,\n",
              "  <matplotlib.patches.Wedge at 0x7fc373c9f898>,\n",
              "  <matplotlib.patches.Wedge at 0x7fc373c9fd68>,\n",
              "  <matplotlib.patches.Wedge at 0x7fc373cb1278>,\n",
              "  <matplotlib.patches.Wedge at 0x7fc373cb1748>,\n",
              "  <matplotlib.patches.Wedge at 0x7fc373cb1c18>,\n",
              "  <matplotlib.patches.Wedge at 0x7fc373cb8128>,\n",
              "  <matplotlib.patches.Wedge at 0x7fc373cb85f8>,\n",
              "  <matplotlib.patches.Wedge at 0x7fc373cb8ac8>,\n",
              "  <matplotlib.patches.Wedge at 0x7fc373cb8f98>,\n",
              "  <matplotlib.patches.Wedge at 0x7fc373ccb4a8>],\n",
              " [Text(1.094069900353693, 0.11406600343687245, '155R12C ATL'),\n",
              "  Text(1.0685142425212897, 0.2612992796185147, '175/70R13 GREEN ATL'),\n",
              "  Text(1.044635010789564, 0.34458336325581373, '175/70R14 ATL'),\n",
              "  Text(0.9978549488345767, 0.4629098196045795, '175R13C ATL'),\n",
              "  Text(0.9510903985732322, 0.552654551905447, '185/65R15 GREEN ATL'),\n",
              "  Text(0.3908375016506146, 1.0282247066198644, '185/70R13 ATL'),\n",
              "  Text(-0.7829521812452823, 0.772648614755281, '185/70R14 GREEN ATL'),\n",
              "  Text(-1.099458661094229, -0.034505833490669, '185/70R14 LMA3 INF'),\n",
              "  Text(-1.029310681842863, -0.38796845264039254, '185R14C  ATL'),\n",
              "  Text(-0.6902837906304657, -0.8564509842325102, '195/65R15 ATL'),\n",
              "  Text(-0.120928847590279, -1.0933326181087286, '195R14C LMC8 ATL'),\n",
              "  Text(-0.014571139939316101, -1.0999034875300964, '195R14C LMC8 INF'),\n",
              "  Text(0.05825878290762763, -1.098456150337428, '195R15C GREENVAN ATL'),\n",
              "  Text(0.12473938817625708, -1.092904426305161, '195R15C INF'),\n",
              "  Text(0.173365464648168, -1.0862524640558129, '205/55R16 GREEN ATL'),\n",
              "  Text(0.1930266790502228, -1.0829315311573684, '205/60R16 GREEN ATL'),\n",
              "  Text(0.40228300934254785, -1.023800947642804, '205/65R15 ATL'),\n",
              "  Text(0.7021586399908143, -0.8467427261490058, '205/70R15 ATL'),\n",
              "  Text(0.814063721176293, -0.7397974438078351, '205R16C ATL'),\n",
              "  Text(0.8243000128516088, -0.7283745525571563, '215/45R17 SPORT GREEN ATL'),\n",
              "  Text(0.8328749253125916, -0.7185536575549145, '215/60R16 GREEN ATL'),\n",
              "  Text(0.8598096493782341, -0.6860957417416889, '215/70R15C ATL'),\n",
              "  Text(0.9336918321724927, -0.5815664730143699, '215/70R16C ATL'),\n",
              "  Text(0.9793749467981196, -0.5008240345512389, '225/55R17 SPORT GREEN ATL'),\n",
              "  Text(0.9903039030663883, -0.4788508949260488, '225/65R17 ATL'),\n",
              "  Text(1.0133825054374102, -0.42785032157683067, '225/70R15C ATL'),\n",
              "  Text(1.0251970645531892, -0.39871164872815595, '235/35R19 SPORT GREEN ATL'),\n",
              "  Text(1.0348804812171142, -0.3728570632237431, '235/55R18 ATL'),\n",
              "  Text(1.0491078550489625, -0.330715449404114, '235/60R18 ATL'),\n",
              "  Text(1.0585496923241264, -0.2991196230281412, '235/70R16  ATL'),\n",
              "  Text(1.0628155627287292, -0.28358963242970403, '245/45R20 SPORT GREEN ATL'),\n",
              "  Text(1.0628155627287292, -0.28358963242970403, '255/55R19 CROSSWIND ATL'),\n",
              "  Text(1.0801347543962334, -0.20810793436433092, '265/70R19.5 AW09 ATL'),\n",
              "  Text(1.0928171839341672, -0.12550140436742857, '385/65R22.5 APW092 ATL'),\n",
              "  Text(1.0983738422192209, -0.059790490285548385, '9.5R17.5 AP09II ATL')])"
            ]
          },
          "metadata": {
            "tags": []
          },
          "execution_count": 121
        },
        {
          "output_type": "display_data",
          "data": {
            "image/png": "[encoded data removed]",
            "text/plain": [
              "<Figure size 432x288 with 1 Axes>"
            ]
          },
          "metadata": {
            "tags": []
          }
        }
      ]
    },
    {
      "cell_type": "code",
      "metadata": {
        "id": "Oqu1zFSrM73z",
        "colab_type": "code",
        "colab": {
          "base_uri": "https://localhost:8080/",
          "height": 1000
        },
        "outputId": "73fbfa73-3da2-478d-c0e4-4711ab7012a6"
      },
      "source": [
        "\n",
        "plt.pie(df['Close_quantity'], labels=df['Tyre_type'])"
      ],
      "execution_count": 122,
      "outputs": [
        {
          "output_type": "execute_result",
          "data": {
            "text/plain": [
              "([<matplotlib.patches.Wedge at 0x7fc37373da58>,\n",
              "  <matplotlib.patches.Wedge at 0x7fc37373df60>,\n",
              "  <matplotlib.patches.Wedge at 0x7fc373746470>,\n",
              "  <matplotlib.patches.Wedge at 0x7fc373746940>,\n",
              "  <matplotlib.patches.Wedge at 0x7fc373746e10>,\n",
              "  <matplotlib.patches.Wedge at 0x7fc37374f320>,\n",
              "  <matplotlib.patches.Wedge at 0x7fc37374f7f0>,\n",
              "  <matplotlib.patches.Wedge at 0x7fc37374fcc0>,\n",
              "  <matplotlib.patches.Wedge at 0x7fc373c911d0>,\n",
              "  <matplotlib.patches.Wedge at 0x7fc373c916a0>,\n",
              "  <matplotlib.patches.Wedge at 0x7fc373726630>,\n",
              "  <matplotlib.patches.Wedge at 0x7fc373c87048>,\n",
              "  <matplotlib.patches.Wedge at 0x7fc373c87518>,\n",
              "  <matplotlib.patches.Wedge at 0x7fc373c879e8>,\n",
              "  <matplotlib.patches.Wedge at 0x7fc373c87eb8>,\n",
              "  <matplotlib.patches.Wedge at 0x7fc373c5e3c8>,\n",
              "  <matplotlib.patches.Wedge at 0x7fc373c5e898>,\n",
              "  <matplotlib.patches.Wedge at 0x7fc373c5ed68>,\n",
              "  <matplotlib.patches.Wedge at 0x7fc373c6d278>,\n",
              "  <matplotlib.patches.Wedge at 0x7fc373c6d748>,\n",
              "  <matplotlib.patches.Wedge at 0x7fc373c6dc18>,\n",
              "  <matplotlib.patches.Wedge at 0x7fc373c65128>,\n",
              "  <matplotlib.patches.Wedge at 0x7fc373c655f8>,\n",
              "  <matplotlib.patches.Wedge at 0x7fc373c65ac8>,\n",
              "  <matplotlib.patches.Wedge at 0x7fc373c65f98>,\n",
              "  <matplotlib.patches.Wedge at 0x7fc373c7b4a8>,\n",
              "  <matplotlib.patches.Wedge at 0x7fc373c7b978>,\n",
              "  <matplotlib.patches.Wedge at 0x7fc373c7be48>,\n",
              "  <matplotlib.patches.Wedge at 0x7fc3736db358>,\n",
              "  <matplotlib.patches.Wedge at 0x7fc3736db828>,\n",
              "  <matplotlib.patches.Wedge at 0x7fc3736dbcf8>,\n",
              "  <matplotlib.patches.Wedge at 0x7fc3736e5208>,\n",
              "  <matplotlib.patches.Wedge at 0x7fc3736e56d8>,\n",
              "  <matplotlib.patches.Wedge at 0x7fc3736e5ba8>,\n",
              "  <matplotlib.patches.Wedge at 0x7fc3736ee0b8>],\n",
              " [Text(1.0990019088038043, 0.04684874006411052, '155R12C ATL'),\n",
              "  Text(1.0869740832569068, 0.16878193720836115, '175/70R13 GREEN ATL'),\n",
              "  Text(1.0640227417321837, 0.2790261727450073, '175/70R14 ATL'),\n",
              "  Text(0.9877723001357909, 0.48405152936898066, '175R13C ATL'),\n",
              "  Text(0.8443310780178337, 0.7050567570722537, '185/65R15 GREEN ATL'),\n",
              "  Text(0.7873589457003868, 0.768157464733355, '185/70R13 ATL'),\n",
              "  Text(0.7841010227174053, 0.7714827192967574, '185/70R14 GREEN ATL'),\n",
              "  Text(0.6796162999558565, 0.8649402781893738, '185/70R14 LMA3 INF'),\n",
              "  Text(0.49003436536800216, 0.9848179124885876, '185R14C  ATL'),\n",
              "  Text(0.23148480926374498, 1.0753672782264336, '195/65R15 ATL'),\n",
              "  Text(-0.5110369311968895, 0.9740848294439585, '195R14C LMC8 ATL'),\n",
              "  Text(-0.9811266130150319, 0.4973837243352983, '195R14C LMC8 INF'),\n",
              "  Text(-1.0999432610076023, -0.011172401888660428, '195R15C GREENVAN ATL'),\n",
              "  Text(-0.8488884918836173, -0.6995629552424557, '195R15C INF'),\n",
              "  Text(-0.5318045966750337, -0.9629038742030821, '205/55R16 GREEN ATL'),\n",
              "  Text(-0.43513887531055123, -1.0102742989868982, '205/60R16 GREEN ATL'),\n",
              "  Text(-0.4105001444294223, -1.0205339932718673, '205/65R15 ATL'),\n",
              "  Text(-0.37396923013514344, -1.0344791031780818, '205/70R15 ATL'),\n",
              "  Text(-0.2605228234220567, -1.0687038216812927, '205R16C ATL'),\n",
              "  Text(-0.17138820973996538, -1.0865661883024567, '215/45R17 SPORT GREEN ATL'),\n",
              "  Text(-0.0798449742427391, -1.0970983456774404, '215/60R16 GREEN ATL'),\n",
              "  Text(0.08758117323162092, -1.0965078832800852, '215/70R15C ATL'),\n",
              "  Text(0.3058022268528806, -1.0566385370843805, '215/70R16C ATL'),\n",
              "  Text(0.44594495511757193, -1.0055511409198374, '225/55R17 SPORT GREEN ATL'),\n",
              "  Text(0.4994586547357073, -0.9800719627708966, '225/65R17 ATL'),\n",
              "  Text(0.6159409737236526, -0.9113817624290925, '225/70R15C ATL'),\n",
              "  Text(0.6837569770052682, -0.8616707006720244, '235/35R19 SPORT GREEN ATL'),\n",
              "  Text(0.7249838068456805, -0.8272837964154413, '235/55R18 ATL'),\n",
              "  Text(0.820394678000947, -0.73277047723535, '235/60R18 ATL'),\n",
              "  Text(0.9214232490148093, -0.6008154426901766, '235/70R16  ATL'),\n",
              "  Text(0.9665568622511121, -0.5251360128912174, '245/45R20 SPORT GREEN ATL'),\n",
              "  Text(0.9712585306405705, -0.516388290589475, '255/55R19 CROSSWIND ATL'),\n",
              "  Text(1.0174363468930614, -0.418118739141051, '265/70R19.5 AW09 ATL'),\n",
              "  Text(1.0603945201351228, -0.29251232737681837, '385/65R22.5 APW092 ATL'),\n",
              "  Text(1.0918395927490998, -0.13373968635180822, '9.5R17.5 AP09II ATL')])"
            ]
          },
          "metadata": {
            "tags": []
          },
          "execution_count": 122
        },
        {
          "output_type": "display_data",
          "data": {
            "image/png": "[encoded data removed]",
            "text/plain": [
              "<Figure size 432x288 with 1 Axes>"
            ]
          },
          "metadata": {
            "tags": []
          }
        }
      ]
    },
    {
      "cell_type": "code",
      "metadata": {
        "id": "1FX6ig3IPlLj",
        "colab_type": "code",
        "colab": {
          "base_uri": "https://localhost:8080/",
          "height": 312
        },
        "outputId": "c4d9d291-95fc-44f9-d11a-bc197573b46b"
      },
      "source": [
        "# create a figure and axis \n",
        "fig, ax = plt.subplots() \n",
        "# count the occurrence of each class \n",
        "data = df['OUT_quantity'].value_counts() \n",
        "# get x and y data \n",
        "points = data.index \n",
        "frequency = data.values \n",
        "# create bar chart \n",
        "ax.bar(points, frequency) \n",
        "# set title and labels \n",
        "ax.set_title('Wine Review Scores') \n",
        "ax.set_xlabel('Points') \n",
        "ax.set_ylabel('Frequency')"
      ],
      "execution_count": 124,
      "outputs": [
        {
          "output_type": "execute_result",
          "data": {
            "text/plain": [
              "Text(0, 0.5, 'Frequency')"
            ]
          },
          "metadata": {
            "tags": []
          },
          "execution_count": 124
        },
        {
          "output_type": "display_data",
          "data": {
            "image/png": "[encoded data removed]",
            "text/plain": [
              "<Figure size 432x288 with 1 Axes>"
            ]
          },
          "metadata": {
            "tags": []
          }
        }
      ]
    },
    {
      "cell_type": "code",
      "metadata": {
        "id": "38dyBC_rUvrN",
        "colab_type": "code",
        "colab": {
          "base_uri": "https://localhost:8080/",
          "height": 383
        },
        "outputId": "f5cb76fb-0371-4202-ab79-79773f6d31ff"
      },
      "source": [
        "df['OUT_quantity'].plot.hist(subplots=True, layout=(2,2), figsize=(10, 10), bins=20)"
      ],
      "execution_count": 125,
      "outputs": [
        {
          "output_type": "execute_result",
          "data": {
            "text/plain": [
              "array([[<matplotlib.axes._subplots.AxesSubplot object at 0x7fc37359dc50>,\n",
              "        <matplotlib.axes._subplots.AxesSubplot object at 0x7fc3735ccf28>],\n",
              "       [<matplotlib.axes._subplots.AxesSubplot object at 0x7fc37357e4e0>,\n",
              "        <matplotlib.axes._subplots.AxesSubplot object at 0x7fc373524a58>]],\n",
              "      dtype=object)"
            ]
          },
          "metadata": {
            "tags": []
          },
          "execution_count": 125
        },
        {
          "output_type": "display_data",
          "data": {
            "image/png": "[encoded data removed]",
            "text/plain": [
              "<Figure size 720x720 with 4 Axes>"
            ]
          },
          "metadata": {
            "tags": []
          }
        }
      ]
    },
    {
      "cell_type": "code",
      "metadata": {
        "id": "f95E541tVH_r",
        "colab_type": "code",
        "colab": {}
      },
      "source": [
        ""
      ],
      "execution_count": 0,
      "outputs": []
    }
  ]
}